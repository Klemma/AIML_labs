{
 "cells": [
  {
   "cell_type": "markdown",
   "metadata": {},
   "source": [
    "# Лабораторная работа 1. Язык программирования Python.\n",
    "\n",
    "## Задание 1\n",
    "Дан массив вида [a,b,c,d,e,a,a,b,c]\n",
    "<br>\n",
    "    a) Преобразуйте его в словарь вида:\n",
    "    <ul>\n",
    "    <li>a: [0,5,6]</li>\n",
    "    <li>b: [1,7]</li>\n",
    "    <li>...</li>\n",
    "    <li>e: [4]</li>\n",
    "    </ul>\n",
    "    <br>\n",
    "    б) Сделайте это в одну строчку кода (разрешается с меньшей эффективностью)\n",
    "    <br>\n",
    "## Решение:"
   ]
  },
  {
   "cell_type": "code",
   "execution_count": 1,
   "metadata": {},
   "outputs": [],
   "source": [
    "def array_to_dict(array: list) -> dict:\n",
    "    return {array[i]: [item[0] for item in list(enumerate(array)) if item[1] == array[i]] for i in range(len(array))}"
   ]
  },
  {
   "cell_type": "code",
   "execution_count": 2,
   "metadata": {},
   "outputs": [
    {
     "data": {
      "text/plain": [
       "{'a': [0, 5, 6], 'b': [1, 7], 'c': [2, 8], 'd': [3], 'e': [4]}"
      ]
     },
     "execution_count": 2,
     "metadata": {},
     "output_type": "execute_result"
    }
   ],
   "source": [
    "array_to_dict(['a', 'b', 'c', 'd', 'e', 'a', 'a', 'b', 'c'])"
   ]
  },
  {
   "cell_type": "markdown",
   "metadata": {},
   "source": [
    "## Задание 2\n",
    "Метрика Жаккара (Jaccard similarity) - способ измерения сходства между множествами.\n",
    "Вычисляется как $$ \\frac{|A \\cap B|}{|A \\cup B|}, \\\\ $$ т.е. размер пересечения поделить на размер объединения множеств.\n",
    "<br>Реализуйте вычисление метрики не используя методов intersection и union типа set и не создавая промежуточных множеств.\n",
    "<br>\n",
    "## Решение:"
   ]
  },
  {
   "cell_type": "code",
   "execution_count": 3,
   "metadata": {},
   "outputs": [],
   "source": [
    "def jaccard_similarity(set1: set, set2: set) -> float:\n",
    "    intersec_size = 0\n",
    "    union_size = len(set1) + len(set2)\n",
    "    for item in set1:\n",
    "        if item in set2:\n",
    "            intersec_size += 1\n",
    "            union_size -= 1\n",
    "    return intersec_size / union_size"
   ]
  },
  {
   "cell_type": "code",
   "execution_count": 4,
   "metadata": {},
   "outputs": [
    {
     "data": {
      "text/plain": [
       "0.2"
      ]
     },
     "execution_count": 4,
     "metadata": {},
     "output_type": "execute_result"
    }
   ],
   "source": [
    "jaccard_similarity({1, 2, 3}, {2, 4, 5})"
   ]
  },
  {
   "cell_type": "markdown",
   "metadata": {},
   "source": [
    "## Задание 4\n",
    "Дан следующий [json-файл](https://pastebin.com/raw/edzB88Px)<br>\n",
    "Преобразуйте данные в CSV-файл вида:<br>\n",
    "item, country, year, sales<br>\n",
    "ITEM1, Russia, 2010, 23<br>\n",
    "ITEM2, Russia, 2011, 40<br>\n",
    "...<br>\n",
    "ITEM2, Russia, 2010, 40<br>\n",
    "...\n",
    "<br>\n",
    "## Решение:"
   ]
  },
  {
   "cell_type": "code",
   "execution_count": 5,
   "metadata": {},
   "outputs": [],
   "source": [
    "import requests\n",
    "import csv"
   ]
  },
  {
   "cell_type": "code",
   "execution_count": 6,
   "metadata": {},
   "outputs": [],
   "source": [
    "def get_json_from_pastebin(url: str) -> list:\n",
    "    return requests.get(url).json()"
   ]
  },
  {
   "cell_type": "code",
   "execution_count": 7,
   "metadata": {},
   "outputs": [],
   "source": [
    "def json_to_csv(json_data: list) -> None:\n",
    "    sales_csv = open(\"sales.csv\", \"w\")\n",
    "    csv_writer = csv.writer(sales_csv, delimiter=\",\")\n",
    "\n",
    "    headers = [\"item\", \"country\", \"year\", \"sales\"]\n",
    "    csv_writer.writerow(headers)\n",
    "\n",
    "    for elem in json_data:\n",
    "        content = list(elem.values())\n",
    "        item = content[0]\n",
    "        years_and_sales = content[1]\n",
    "\n",
    "        for country in years_and_sales:\n",
    "            years = list(reversed(years_and_sales[country].keys()))\n",
    "            sales = list(reversed(years_and_sales[country].values()))\n",
    "\n",
    "            while years or sales:\n",
    "                row = [item, country, years.pop(), sales.pop()]\n",
    "                csv_writer.writerow(row)\n",
    "                row.clear()\n",
    "\n",
    "    sales_csv.close()"
   ]
  },
  {
   "cell_type": "code",
   "execution_count": 8,
   "metadata": {},
   "outputs": [],
   "source": [
    "json_data = get_json_from_pastebin(\"https://pastebin.com/raw/edzB88Px\")\n",
    "json_to_csv(json_data)"
   ]
  },
  {
   "cell_type": "code",
   "execution_count": 9,
   "metadata": {
    "scrolled": true
   },
   "outputs": [
    {
     "name": "stdout",
     "output_type": "stream",
     "text": [
      "['item', 'country', 'year', 'sales']\n",
      "['sweater', 'Russia', '2010', '85']\n",
      "['sweater', 'Russia', '2011', '10']\n",
      "['sweater', 'Russia', '2012', '104']\n",
      "['sweater', 'Russia', '2013', '59']\n",
      "['sweater', 'Russia', '2014', '113']\n",
      "['sweater', 'Russia', '2015', '21']\n",
      "['sweater', 'Russia', '2016', '23']\n",
      "['sweater', 'Russia', '2017', '94']\n",
      "['sweater', 'Russia', '2018', '134']\n",
      "['sweater', 'Russia', '2019', '152']\n",
      "['sweater', 'Belarus', '2010', '34']\n",
      "['sweater', 'Belarus', '2011', '87']\n",
      "['sweater', 'Belarus', '2012', '91']\n",
      "['sweater', 'Belarus', '2013', '71']\n",
      "['sweater', 'Belarus', '2014', '44']\n",
      "['sweater', 'Belarus', '2015', '61']\n",
      "['sweater', 'Belarus', '2016', '124']\n",
      "['sweater', 'Belarus', '2017', '82']\n",
      "['sweater', 'Belarus', '2018', '33']\n",
      "['sweater', 'Belarus', '2019', '85']\n",
      "['sweater', 'Ukraine', '2010', '53']\n",
      "['sweater', 'Ukraine', '2011', '39']\n",
      "['sweater', 'Ukraine', '2012', '32']\n",
      "['sweater', 'Ukraine', '2013', '102']\n",
      "['sweater', 'Ukraine', '2014', '121']\n",
      "['sweater', 'Ukraine', '2015', '103']\n",
      "['sweater', 'Ukraine', '2016', '100']\n",
      "['sweater', 'Ukraine', '2017', '64']\n",
      "['sweater', 'Ukraine', '2018', '49']\n",
      "['sweater', 'Ukraine', '2019', '143']\n",
      "['sweater', 'Lithuania', '2010', '100']\n",
      "['sweater', 'Lithuania', '2011', '34']\n",
      "['sweater', 'Lithuania', '2012', '75']\n",
      "['sweater', 'Lithuania', '2013', '151']\n",
      "['sweater', 'Lithuania', '2014', '26']\n",
      "['sweater', 'Lithuania', '2015', '76']\n",
      "['sweater', 'Lithuania', '2016', '150']\n",
      "['sweater', 'Lithuania', '2017', '21']\n",
      "['sweater', 'Lithuania', '2018', '114']\n",
      "['sweater', 'Lithuania', '2019', '18']\n",
      "['sweater', 'Latvia', '2010', '70']\n",
      "['sweater', 'Latvia', '2011', '156']\n",
      "['sweater', 'Latvia', '2012', '70']\n",
      "['sweater', 'Latvia', '2013', '39']\n",
      "['sweater', 'Latvia', '2014', '130']\n",
      "['sweater', 'Latvia', '2015', '87']\n",
      "['sweater', 'Latvia', '2016', '36']\n",
      "['sweater', 'Latvia', '2017', '85']\n",
      "['sweater', 'Latvia', '2018', '68']\n",
      "['sweater', 'Latvia', '2019', '33']\n",
      "['sneakers', 'Russia', '2010', '27']\n",
      "['sneakers', 'Russia', '2011', '143']\n",
      "['sneakers', 'Russia', '2012', '109']\n",
      "['sneakers', 'Russia', '2013', '52']\n",
      "['sneakers', 'Russia', '2014', '39']\n",
      "['sneakers', 'Russia', '2015', '116']\n",
      "['sneakers', 'Russia', '2016', '85']\n",
      "['sneakers', 'Russia', '2017', '148']\n",
      "['sneakers', 'Russia', '2018', '154']\n",
      "['sneakers', 'Russia', '2019', '69']\n",
      "['sneakers', 'Belarus', '2010', '156']\n",
      "['sneakers', 'Belarus', '2011', '112']\n",
      "['sneakers', 'Belarus', '2012', '111']\n",
      "['sneakers', 'Belarus', '2013', '16']\n",
      "['sneakers', 'Belarus', '2014', '132']\n",
      "['sneakers', 'Belarus', '2015', '46']\n",
      "['sneakers', 'Belarus', '2016', '52']\n",
      "['sneakers', 'Belarus', '2017', '40']\n",
      "['sneakers', 'Belarus', '2018', '65']\n",
      "['sneakers', 'Belarus', '2019', '74']\n",
      "['sneakers', 'Ukraine', '2010', '158']\n",
      "['sneakers', 'Ukraine', '2011', '48']\n",
      "['sneakers', 'Ukraine', '2012', '98']\n",
      "['sneakers', 'Ukraine', '2013', '18']\n",
      "['sneakers', 'Ukraine', '2014', '121']\n",
      "['sneakers', 'Ukraine', '2015', '55']\n",
      "['sneakers', 'Ukraine', '2016', '139']\n",
      "['sneakers', 'Ukraine', '2017', '19']\n",
      "['sneakers', 'Ukraine', '2018', '151']\n",
      "['sneakers', 'Ukraine', '2019', '69']\n",
      "['sneakers', 'Lithuania', '2010', '155']\n",
      "['sneakers', 'Lithuania', '2011', '49']\n",
      "['sneakers', 'Lithuania', '2012', '81']\n",
      "['sneakers', 'Lithuania', '2013', '46']\n",
      "['sneakers', 'Lithuania', '2014', '155']\n",
      "['sneakers', 'Lithuania', '2015', '106']\n",
      "['sneakers', 'Lithuania', '2016', '65']\n",
      "['sneakers', 'Lithuania', '2017', '118']\n",
      "['sneakers', 'Lithuania', '2018', '49']\n",
      "['sneakers', 'Lithuania', '2019', '17']\n",
      "['sneakers', 'Latvia', '2010', '16']\n",
      "['sneakers', 'Latvia', '2011', '147']\n",
      "['sneakers', 'Latvia', '2012', '105']\n",
      "['sneakers', 'Latvia', '2013', '50']\n",
      "['sneakers', 'Latvia', '2014', '97']\n",
      "['sneakers', 'Latvia', '2015', '129']\n",
      "['sneakers', 'Latvia', '2016', '82']\n",
      "['sneakers', 'Latvia', '2017', '90']\n",
      "['sneakers', 'Latvia', '2018', '77']\n",
      "['sneakers', 'Latvia', '2019', '19']\n",
      "['hoodie', 'Russia', '2010', '46']\n",
      "['hoodie', 'Russia', '2011', '23']\n",
      "['hoodie', 'Russia', '2012', '15']\n",
      "['hoodie', 'Russia', '2013', '88']\n",
      "['hoodie', 'Russia', '2014', '121']\n",
      "['hoodie', 'Russia', '2015', '144']\n",
      "['hoodie', 'Russia', '2016', '107']\n",
      "['hoodie', 'Russia', '2017', '14']\n",
      "['hoodie', 'Russia', '2018', '37']\n",
      "['hoodie', 'Russia', '2019', '83']\n",
      "['hoodie', 'Belarus', '2010', '126']\n",
      "['hoodie', 'Belarus', '2011', '42']\n",
      "['hoodie', 'Belarus', '2012', '82']\n",
      "['hoodie', 'Belarus', '2013', '30']\n",
      "['hoodie', 'Belarus', '2014', '51']\n",
      "['hoodie', 'Belarus', '2015', '24']\n",
      "['hoodie', 'Belarus', '2016', '82']\n",
      "['hoodie', 'Belarus', '2017', '157']\n",
      "['hoodie', 'Belarus', '2018', '70']\n",
      "['hoodie', 'Belarus', '2019', '138']\n",
      "['hoodie', 'Ukraine', '2010', '68']\n",
      "['hoodie', 'Ukraine', '2011', '97']\n",
      "['hoodie', 'Ukraine', '2012', '93']\n",
      "['hoodie', 'Ukraine', '2013', '108']\n",
      "['hoodie', 'Ukraine', '2014', '83']\n",
      "['hoodie', 'Ukraine', '2015', '75']\n",
      "['hoodie', 'Ukraine', '2016', '70']\n",
      "['hoodie', 'Ukraine', '2017', '42']\n",
      "['hoodie', 'Ukraine', '2018', '94']\n",
      "['hoodie', 'Ukraine', '2019', '112']\n",
      "['hoodie', 'Lithuania', '2010', '93']\n",
      "['hoodie', 'Lithuania', '2011', '95']\n",
      "['hoodie', 'Lithuania', '2012', '151']\n",
      "['hoodie', 'Lithuania', '2013', '93']\n",
      "['hoodie', 'Lithuania', '2014', '16']\n",
      "['hoodie', 'Lithuania', '2015', '144']\n",
      "['hoodie', 'Lithuania', '2016', '99']\n",
      "['hoodie', 'Lithuania', '2017', '140']\n",
      "['hoodie', 'Lithuania', '2018', '44']\n",
      "['hoodie', 'Lithuania', '2019', '47']\n",
      "['hoodie', 'Latvia', '2010', '65']\n",
      "['hoodie', 'Latvia', '2011', '122']\n",
      "['hoodie', 'Latvia', '2012', '68']\n",
      "['hoodie', 'Latvia', '2013', '157']\n",
      "['hoodie', 'Latvia', '2014', '54']\n",
      "['hoodie', 'Latvia', '2015', '29']\n",
      "['hoodie', 'Latvia', '2016', '156']\n",
      "['hoodie', 'Latvia', '2017', '50']\n",
      "['hoodie', 'Latvia', '2018', '76']\n",
      "['hoodie', 'Latvia', '2019', '17']\n",
      "['jeans', 'Russia', '2010', '148']\n",
      "['jeans', 'Russia', '2011', '23']\n",
      "['jeans', 'Russia', '2012', '130']\n",
      "['jeans', 'Russia', '2013', '103']\n",
      "['jeans', 'Russia', '2014', '50']\n",
      "['jeans', 'Russia', '2015', '11']\n",
      "['jeans', 'Russia', '2016', '72']\n",
      "['jeans', 'Russia', '2017', '92']\n",
      "['jeans', 'Russia', '2018', '159']\n",
      "['jeans', 'Russia', '2019', '50']\n",
      "['jeans', 'Belarus', '2010', '44']\n",
      "['jeans', 'Belarus', '2011', '75']\n",
      "['jeans', 'Belarus', '2012', '147']\n",
      "['jeans', 'Belarus', '2013', '152']\n",
      "['jeans', 'Belarus', '2014', '71']\n",
      "['jeans', 'Belarus', '2015', '90']\n",
      "['jeans', 'Belarus', '2016', '149']\n",
      "['jeans', 'Belarus', '2017', '125']\n",
      "['jeans', 'Belarus', '2018', '112']\n",
      "['jeans', 'Belarus', '2019', '72']\n",
      "['jeans', 'Ukraine', '2010', '32']\n",
      "['jeans', 'Ukraine', '2011', '23']\n",
      "['jeans', 'Ukraine', '2012', '62']\n",
      "['jeans', 'Ukraine', '2013', '80']\n",
      "['jeans', 'Ukraine', '2014', '29']\n",
      "['jeans', 'Ukraine', '2015', '113']\n",
      "['jeans', 'Ukraine', '2016', '93']\n",
      "['jeans', 'Ukraine', '2017', '79']\n",
      "['jeans', 'Ukraine', '2018', '15']\n",
      "['jeans', 'Ukraine', '2019', '149']\n",
      "['jeans', 'Lithuania', '2010', '83']\n",
      "['jeans', 'Lithuania', '2011', '129']\n",
      "['jeans', 'Lithuania', '2012', '37']\n",
      "['jeans', 'Lithuania', '2013', '71']\n",
      "['jeans', 'Lithuania', '2014', '37']\n",
      "['jeans', 'Lithuania', '2015', '89']\n",
      "['jeans', 'Lithuania', '2016', '80']\n",
      "['jeans', 'Lithuania', '2017', '15']\n",
      "['jeans', 'Lithuania', '2018', '72']\n",
      "['jeans', 'Lithuania', '2019', '88']\n",
      "['jeans', 'Latvia', '2010', '49']\n",
      "['jeans', 'Latvia', '2011', '81']\n",
      "['jeans', 'Latvia', '2012', '117']\n",
      "['jeans', 'Latvia', '2013', '112']\n",
      "['jeans', 'Latvia', '2014', '160']\n",
      "['jeans', 'Latvia', '2015', '20']\n",
      "['jeans', 'Latvia', '2016', '22']\n",
      "['jeans', 'Latvia', '2017', '26']\n",
      "['jeans', 'Latvia', '2018', '15']\n",
      "['jeans', 'Latvia', '2019', '49']\n",
      "['t-shirt', 'Russia', '2010', '118']\n",
      "['t-shirt', 'Russia', '2011', '141']\n",
      "['t-shirt', 'Russia', '2012', '101']\n",
      "['t-shirt', 'Russia', '2013', '116']\n",
      "['t-shirt', 'Russia', '2014', '154']\n",
      "['t-shirt', 'Russia', '2015', '118']\n",
      "['t-shirt', 'Russia', '2016', '69']\n",
      "['t-shirt', 'Russia', '2017', '117']\n",
      "['t-shirt', 'Russia', '2018', '85']\n",
      "['t-shirt', 'Russia', '2019', '142']\n",
      "['t-shirt', 'Belarus', '2010', '114']\n",
      "['t-shirt', 'Belarus', '2011', '66']\n",
      "['t-shirt', 'Belarus', '2012', '50']\n",
      "['t-shirt', 'Belarus', '2013', '17']\n",
      "['t-shirt', 'Belarus', '2014', '22']\n",
      "['t-shirt', 'Belarus', '2015', '34']\n",
      "['t-shirt', 'Belarus', '2016', '40']\n",
      "['t-shirt', 'Belarus', '2017', '62']\n",
      "['t-shirt', 'Belarus', '2018', '127']\n",
      "['t-shirt', 'Belarus', '2019', '43']\n",
      "['t-shirt', 'Ukraine', '2010', '160']\n",
      "['t-shirt', 'Ukraine', '2011', '11']\n",
      "['t-shirt', 'Ukraine', '2012', '141']\n",
      "['t-shirt', 'Ukraine', '2013', '122']\n",
      "['t-shirt', 'Ukraine', '2014', '106']\n",
      "['t-shirt', 'Ukraine', '2015', '135']\n",
      "['t-shirt', 'Ukraine', '2016', '65']\n",
      "['t-shirt', 'Ukraine', '2017', '124']\n",
      "['t-shirt', 'Ukraine', '2018', '137']\n",
      "['t-shirt', 'Ukraine', '2019', '10']\n",
      "['t-shirt', 'Lithuania', '2010', '27']\n",
      "['t-shirt', 'Lithuania', '2011', '59']\n",
      "['t-shirt', 'Lithuania', '2012', '37']\n",
      "['t-shirt', 'Lithuania', '2013', '72']\n",
      "['t-shirt', 'Lithuania', '2014', '124']\n",
      "['t-shirt', 'Lithuania', '2015', '159']\n",
      "['t-shirt', 'Lithuania', '2016', '17']\n",
      "['t-shirt', 'Lithuania', '2017', '159']\n",
      "['t-shirt', 'Lithuania', '2018', '101']\n",
      "['t-shirt', 'Lithuania', '2019', '114']\n",
      "['t-shirt', 'Latvia', '2010', '57']\n",
      "['t-shirt', 'Latvia', '2011', '111']\n",
      "['t-shirt', 'Latvia', '2012', '98']\n",
      "['t-shirt', 'Latvia', '2013', '53']\n",
      "['t-shirt', 'Latvia', '2014', '49']\n",
      "['t-shirt', 'Latvia', '2015', '138']\n",
      "['t-shirt', 'Latvia', '2016', '100']\n",
      "['t-shirt', 'Latvia', '2017', '37']\n",
      "['t-shirt', 'Latvia', '2018', '59']\n",
      "['t-shirt', 'Latvia', '2019', '79']\n"
     ]
    }
   ],
   "source": [
    "with open(\"sales.csv\") as f:\n",
    "    csv_reader = csv.reader(f)\n",
    "    for row in csv_reader:\n",
    "        print(row if row != [] else '\\n', end='')"
   ]
  },
  {
   "cell_type": "markdown",
   "metadata": {},
   "source": [
    "## Задание 6\n",
    "Дан [граф друзей](https://raw.githubusercontent.com/Klemma/AIML_labs/master/arcs_refined.txt) из соцсети VK<br>\n",
    "Необходимо:<br>\n",
    "1) Определить число уникальных пользователей<br>\n",
    "2) Для каждого id пользователя определить число его друзей из данного графа. Вывести топ 15. Учитывать неориентированность графа.<br>\n",
    "3) Для всех возможных пар пользователей (декартова произведения):<br>\n",
    "Для длины L 1..6 определить пропорцию пар пользователей, для которой кратчайший путь между пользователями в паре составляет L. \n",
    "Определить пропорцию, для которой этот путь больше 6.\n",
    "Убедиться, что полученные пропорции суммируются в 1.\n",
    "<br>\n",
    "## Решение:\n",
    "### Пункт 1"
   ]
  },
  {
   "cell_type": "code",
   "execution_count": 10,
   "metadata": {},
   "outputs": [],
   "source": [
    "def get_txt_from_url(url: str) -> str:\n",
    "    return requests.get(url).text"
   ]
  },
  {
   "cell_type": "code",
   "execution_count": 11,
   "metadata": {},
   "outputs": [],
   "source": [
    "def get_users_set(txt: str) -> set:\n",
    "    return set(txt.split())"
   ]
  },
  {
   "cell_type": "code",
   "execution_count": 12,
   "metadata": {},
   "outputs": [
    {
     "name": "stdout",
     "output_type": "stream",
     "text": [
      "Количество уникальных пользователей равно 3766\n"
     ]
    }
   ],
   "source": [
    "txt = get_txt_from_url(\"https://raw.githubusercontent.com/Klemma/AIML_labs/master/arcs_refined.txt\")\n",
    "users = get_users_set(txt)\n",
    "print(f\"Количество уникальных пользователей равно {len(users)}\")"
   ]
  },
  {
   "cell_type": "markdown",
   "metadata": {},
   "source": [
    "### Пункт 2"
   ]
  },
  {
   "cell_type": "code",
   "execution_count": 13,
   "metadata": {},
   "outputs": [],
   "source": [
    "def get_users_friends_amount(txt: str) -> dict:\n",
    "    txt_splitted = txt.split()\n",
    "    users_friends_amount = dict()\n",
    "\n",
    "    for item in txt_splitted:\n",
    "        users_friends_amount[item] = 1 if item not in users_friends_amount else users_friends_amount[item] + 1\n",
    "\n",
    "    return users_friends_amount"
   ]
  },
  {
   "cell_type": "code",
   "execution_count": 14,
   "metadata": {},
   "outputs": [
    {
     "name": "stdout",
     "output_type": "stream",
     "text": [
      "\n",
      "Топ 15 пользователей по количеству друзей:\n",
      "('154572605', 351)\n",
      "('136435809', 211)\n",
      "('34847138', 210)\n",
      "('1997236', 178)\n",
      "('472893795', 178)\n",
      "('270418723', 167)\n",
      "('246825563', 155)\n",
      "('120109289', 148)\n",
      "('83372852', 146)\n",
      "('94780691', 140)\n",
      "('63962118', 136)\n",
      "('150491520', 135)\n",
      "('94509311', 135)\n",
      "('122784747', 132)\n",
      "('41459412', 130)\n"
     ]
    }
   ],
   "source": [
    "users_friends_amount = sorted(get_users_friends_amount(txt).items(), key=lambda x: x[1], reverse=True)\n",
    "print(\"\\nТоп 15 пользователей по количеству друзей:\")\n",
    "for i in range(15):\n",
    "    print(users_friends_amount[i])"
   ]
  },
  {
   "cell_type": "markdown",
   "metadata": {},
   "source": [
    "### Пункт 3"
   ]
  },
  {
   "cell_type": "code",
   "execution_count": 15,
   "metadata": {},
   "outputs": [],
   "source": [
    "import numpy as np\n",
    "from scipy.sparse.csgraph import dijkstra\n",
    "\n",
    "\n",
    "def get_users_proportions(txt: str) -> dict:\n",
    "    users = get_users_set(txt)\n",
    "    users_enum = {val: key for key, val in dict(enumerate(users)).items()}\n",
    "\n",
    "    users_pairs = [(users_enum[pair[0]], users_enum[pair[1]])\n",
    "                   for pair in [pair.split(' ') for pair in txt.split('\\n')]]\n",
    "\n",
    "    adjacency_matrix = np.zeros((len(users), len(users)))\n",
    "    for i in range(len(users_pairs)):\n",
    "        user1 = users_pairs[i][0]\n",
    "        user2 = users_pairs[i][1]\n",
    "        adjacency_matrix[user1][user2] = 1\n",
    "        adjacency_matrix[user2][user1] = 1\n",
    "\n",
    "    dist_matrix = dijkstra(adjacency_matrix, directed=False)\n",
    "    max_len = int(np.unique(dist_matrix)[-2])\n",
    "    \n",
    "    cartesian_product = [(user1, user2) for user1 in users for user2 in users if user1 != user2]\n",
    "    \n",
    "    proportion = lambda length: np.count_nonzero(dist_matrix == length) / len(cartesian_product)\n",
    "\n",
    "    proportions = {length: proportion(length) for length in range(1, max_len + 1)}\n",
    "    proportions[np.inf] = proportion(np.inf)\n",
    "    \n",
    "    return proportions"
   ]
  },
  {
   "cell_type": "code",
   "execution_count": 16,
   "metadata": {},
   "outputs": [],
   "source": [
    "txt = get_txt_from_url(\"https://raw.githubusercontent.com/Klemma/AIML_labs/master/arcs_refined.txt\")\n",
    "proportions = get_users_proportions(txt)"
   ]
  },
  {
   "cell_type": "markdown",
   "metadata": {},
   "source": [
    "<b>Полученные пропорции:</b>"
   ]
  },
  {
   "cell_type": "code",
   "execution_count": 17,
   "metadata": {},
   "outputs": [
    {
     "data": {
      "text/plain": [
       "{1: 0.0058403313635174295,\n",
       " 2: 0.10119832230645483,\n",
       " 3: 0.4391326885765488,\n",
       " 4: 0.3318412665500152,\n",
       " 5: 0.08070490211220968,\n",
       " 6: 0.012568031996637278,\n",
       " 7: 0.0023819750207877996,\n",
       " 8: 0.0009966859416643923,\n",
       " 9: 0.0004389593334927241,\n",
       " 10: 8.674806879756598e-05,\n",
       " 11: 7.899011142542592e-06,\n",
       " 12: 2.821075408050926e-07,\n",
       " inf: 0.024801907611190926}"
      ]
     },
     "execution_count": 17,
     "metadata": {},
     "output_type": "execute_result"
    }
   ],
   "source": [
    "proportions"
   ]
  },
  {
   "cell_type": "markdown",
   "metadata": {},
   "source": [
    "<b>Сумма полученных пропорций:</b>"
   ]
  },
  {
   "cell_type": "code",
   "execution_count": 18,
   "metadata": {},
   "outputs": [
    {
     "data": {
      "text/plain": [
       "1.0"
      ]
     },
     "execution_count": 18,
     "metadata": {},
     "output_type": "execute_result"
    }
   ],
   "source": [
    "sum(proportions.values())"
   ]
  },
  {
   "cell_type": "code",
   "execution_count": null,
   "metadata": {},
   "outputs": [],
   "source": []
  }
 ],
 "metadata": {
  "kernelspec": {
   "display_name": "Python 3",
   "language": "python",
   "name": "python3"
  },
  "language_info": {
   "codemirror_mode": {
    "name": "ipython",
    "version": 3
   },
   "file_extension": ".py",
   "mimetype": "text/x-python",
   "name": "python",
   "nbconvert_exporter": "python",
   "pygments_lexer": "ipython3",
   "version": "3.8.5"
  }
 },
 "nbformat": 4,
 "nbformat_minor": 4
}
